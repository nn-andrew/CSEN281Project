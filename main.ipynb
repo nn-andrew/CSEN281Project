{
 "cells": [
  {
   "cell_type": "code",
   "execution_count": 2,
   "metadata": {},
   "outputs": [
    {
     "data": {
      "text/html": [
       "<div>\n",
       "<style scoped>\n",
       "    .dataframe tbody tr th:only-of-type {\n",
       "        vertical-align: middle;\n",
       "    }\n",
       "\n",
       "    .dataframe tbody tr th {\n",
       "        vertical-align: top;\n",
       "    }\n",
       "\n",
       "    .dataframe thead th {\n",
       "        text-align: right;\n",
       "    }\n",
       "</style>\n",
       "<table border=\"1\" class=\"dataframe\">\n",
       "  <thead>\n",
       "    <tr style=\"text-align: right;\">\n",
       "      <th></th>\n",
       "      <th>Movie</th>\n",
       "      <th>Director</th>\n",
       "      <th>Running time</th>\n",
       "      <th>Actor 1</th>\n",
       "      <th>Actor 2</th>\n",
       "      <th>Actor 3</th>\n",
       "      <th>Genre</th>\n",
       "      <th>Budget</th>\n",
       "      <th>Box Office</th>\n",
       "      <th>Actors Box Office %</th>\n",
       "      <th>Director Box Office %</th>\n",
       "      <th>Earnings</th>\n",
       "      <th>Oscar and Golden Globes nominations</th>\n",
       "      <th>Oscar and Golden Globes awards</th>\n",
       "      <th>Release year</th>\n",
       "      <th>IMDb score</th>\n",
       "    </tr>\n",
       "  </thead>\n",
       "  <tbody>\n",
       "    <tr>\n",
       "      <th>0</th>\n",
       "      <td>13 Hours</td>\n",
       "      <td>Michael Bay</td>\n",
       "      <td>144</td>\n",
       "      <td>Toby Stephens</td>\n",
       "      <td>James Badge Dale</td>\n",
       "      <td>David Costabile</td>\n",
       "      <td>Action</td>\n",
       "      <td>50000000</td>\n",
       "      <td>69400000</td>\n",
       "      <td>50.0</td>\n",
       "      <td>69.23</td>\n",
       "      <td>19400000</td>\n",
       "      <td>0</td>\n",
       "      <td>0.0</td>\n",
       "      <td>2016</td>\n",
       "      <td>7.4</td>\n",
       "    </tr>\n",
       "  </tbody>\n",
       "</table>\n",
       "</div>"
      ],
      "text/plain": [
       "      Movie     Director  Running time        Actor 1           Actor 2  \\\n",
       "0  13 Hours  Michael Bay           144  Toby Stephens  James Badge Dale   \n",
       "\n",
       "           Actor 3   Genre    Budget  Box Office  Actors Box Office %  \\\n",
       "0  David Costabile  Action  50000000    69400000                 50.0   \n",
       "\n",
       "   Director Box Office %  Earnings  Oscar and Golden Globes nominations  \\\n",
       "0                  69.23  19400000                                    0   \n",
       "\n",
       "   Oscar and Golden Globes awards  Release year  IMDb score  \n",
       "0                             0.0          2016         7.4  "
      ]
     },
     "execution_count": 2,
     "metadata": {},
     "output_type": "execute_result"
    }
   ],
   "source": [
    "import pandas as pd\n",
    "\n",
    "'''\n",
    "Planned Features\n",
    "---------------------\n",
    "Star power:     The combined number of times the 3 actors of a movie appear in the dataset\n",
    "Running Time:   The duration of the movie\n",
    "Budget:         The budget of the movie\n",
    "Genre:          Genre of the the movie\n",
    "\n",
    "Predicted Class\n",
    "---------------------\n",
    "Success Rating: Calculated as Box Office / Budget\n",
    "\n",
    "\n",
    "'''\n",
    "\n",
    "df = pd.read_csv('movies_data.csv', encoding='ISO-8859-1')\n",
    "df.head(1)"
   ]
  },
  {
   "cell_type": "code",
   "execution_count": 19,
   "metadata": {},
   "outputs": [
    {
     "name": "stdout",
     "output_type": "stream",
     "text": [
      "Marvin's Room 82.0\n",
      "The Big Wedding 76.0\n",
      "Joy 75.0\n",
      "Silver Linings Playbook 75.0\n",
      "The Expendables 2 74.0\n",
      "Cop Land 74.0\n",
      "The Expendables 3 72.0\n",
      "Last Vegas 71.0\n",
      "Batman Begins 70.0\n",
      "Sleepers 70.0\n"
     ]
    }
   ],
   "source": [
    "'''\n",
    "Calculating Star Power\n",
    "1. Create a dictionary to count how many times each actor apears in the dataset\n",
    "'''\n",
    "\n",
    "actor_freq = dict()\n",
    "actor_columns = ['Actor 1', 'Actor 2', 'Actor 3']\n",
    "for name in df['Actor 1']:\n",
    "    if name in actor_freq:\n",
    "        actor_freq[name] += 1\n",
    "    else:\n",
    "        actor_freq[name] = 1\n",
    "\n",
    "df['star_power'] = df['Actor 1'].map(actor_freq) + df['Actor 2'].map(actor_freq) + df['Actor 3'].map(actor_freq)\n",
    "df['star_power'] = df['star_power'].fillna(0)\n",
    "\n",
    "i = 0\n",
    "for e0, e1 in sorted(zip(df['Movie'], df['star_power']), key=lambda x: x[1], reverse=True):\n",
    "    if i == 10:\n",
    "        break\n",
    "    print(e0, e1)\n",
    "    i += 1"
   ]
  },
  {
   "cell_type": "code",
   "execution_count": null,
   "metadata": {},
   "outputs": [],
   "source": []
  }
 ],
 "metadata": {
  "kernelspec": {
   "display_name": "venv",
   "language": "python",
   "name": "python3"
  },
  "language_info": {
   "codemirror_mode": {
    "name": "ipython",
    "version": 3
   },
   "file_extension": ".py",
   "mimetype": "text/x-python",
   "name": "python",
   "nbconvert_exporter": "python",
   "pygments_lexer": "ipython3",
   "version": "3.9.13"
  }
 },
 "nbformat": 4,
 "nbformat_minor": 2
}
