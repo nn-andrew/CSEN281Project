{
 "cells": [
  {
   "cell_type": "markdown",
   "metadata": {},
   "source": [
    "## Dataset Source  \n",
    "- The dataset used in this project is from [Kaggle](https://www.kaggle.com/datasets/delfinaoliva/movies)."
   ]
  },
  {
   "cell_type": "code",
   "execution_count": 3,
   "metadata": {},
   "outputs": [
    {
     "data": {
      "text/html": [
       "<div>\n",
       "<style scoped>\n",
       "    .dataframe tbody tr th:only-of-type {\n",
       "        vertical-align: middle;\n",
       "    }\n",
       "\n",
       "    .dataframe tbody tr th {\n",
       "        vertical-align: top;\n",
       "    }\n",
       "\n",
       "    .dataframe thead th {\n",
       "        text-align: right;\n",
       "    }\n",
       "</style>\n",
       "<table border=\"1\" class=\"dataframe\">\n",
       "  <thead>\n",
       "    <tr style=\"text-align: right;\">\n",
       "      <th></th>\n",
       "      <th>Movie</th>\n",
       "      <th>Director</th>\n",
       "      <th>Running time</th>\n",
       "      <th>Actor 1</th>\n",
       "      <th>Actor 2</th>\n",
       "      <th>Actor 3</th>\n",
       "      <th>Genre</th>\n",
       "      <th>Budget</th>\n",
       "      <th>Box Office</th>\n",
       "      <th>Actors Box Office %</th>\n",
       "      <th>Director Box Office %</th>\n",
       "      <th>Earnings</th>\n",
       "      <th>Oscar and Golden Globes nominations</th>\n",
       "      <th>Oscar and Golden Globes awards</th>\n",
       "      <th>Release year</th>\n",
       "      <th>IMDb score</th>\n",
       "    </tr>\n",
       "  </thead>\n",
       "  <tbody>\n",
       "    <tr>\n",
       "      <th>0</th>\n",
       "      <td>13 Hours</td>\n",
       "      <td>Michael Bay</td>\n",
       "      <td>144</td>\n",
       "      <td>Toby Stephens</td>\n",
       "      <td>James Badge Dale</td>\n",
       "      <td>David Costabile</td>\n",
       "      <td>Action</td>\n",
       "      <td>50000000</td>\n",
       "      <td>69400000</td>\n",
       "      <td>50.00</td>\n",
       "      <td>69.23</td>\n",
       "      <td>19400000</td>\n",
       "      <td>0</td>\n",
       "      <td>0.0</td>\n",
       "      <td>2016</td>\n",
       "      <td>7.4</td>\n",
       "    </tr>\n",
       "    <tr>\n",
       "      <th>1</th>\n",
       "      <td>16 Blocks</td>\n",
       "      <td>Richard Donner</td>\n",
       "      <td>102</td>\n",
       "      <td>Bruce Willis</td>\n",
       "      <td>David Zayas</td>\n",
       "      <td>Sasha Roiz</td>\n",
       "      <td>Action</td>\n",
       "      <td>52000000</td>\n",
       "      <td>65000000</td>\n",
       "      <td>33.33</td>\n",
       "      <td>50.00</td>\n",
       "      <td>13000000</td>\n",
       "      <td>0</td>\n",
       "      <td>0.0</td>\n",
       "      <td>2006</td>\n",
       "      <td>6.6</td>\n",
       "    </tr>\n",
       "    <tr>\n",
       "      <th>2</th>\n",
       "      <td>17 Again</td>\n",
       "      <td>Burr Steers</td>\n",
       "      <td>102</td>\n",
       "      <td>Matthew Perry</td>\n",
       "      <td>Hunter Parrish</td>\n",
       "      <td>Thomas Lennon</td>\n",
       "      <td>Comedy</td>\n",
       "      <td>20000000</td>\n",
       "      <td>139000000</td>\n",
       "      <td>44.44</td>\n",
       "      <td>25.00</td>\n",
       "      <td>119000000</td>\n",
       "      <td>0</td>\n",
       "      <td>0.0</td>\n",
       "      <td>2009</td>\n",
       "      <td>6.4</td>\n",
       "    </tr>\n",
       "  </tbody>\n",
       "</table>\n",
       "</div>"
      ],
      "text/plain": [
       "       Movie        Director  Running time        Actor 1           Actor 2  \\\n",
       "0   13 Hours     Michael Bay           144  Toby Stephens  James Badge Dale   \n",
       "1  16 Blocks  Richard Donner           102   Bruce Willis       David Zayas   \n",
       "2   17 Again     Burr Steers           102  Matthew Perry    Hunter Parrish   \n",
       "\n",
       "           Actor 3   Genre    Budget  Box Office  Actors Box Office %  \\\n",
       "0  David Costabile  Action  50000000    69400000                50.00   \n",
       "1       Sasha Roiz  Action  52000000    65000000                33.33   \n",
       "2    Thomas Lennon  Comedy  20000000   139000000                44.44   \n",
       "\n",
       "   Director Box Office %   Earnings  Oscar and Golden Globes nominations  \\\n",
       "0                  69.23   19400000                                    0   \n",
       "1                  50.00   13000000                                    0   \n",
       "2                  25.00  119000000                                    0   \n",
       "\n",
       "   Oscar and Golden Globes awards  Release year  IMDb score  \n",
       "0                             0.0          2016         7.4  \n",
       "1                             0.0          2006         6.6  \n",
       "2                             0.0          2009         6.4  "
      ]
     },
     "execution_count": 3,
     "metadata": {},
     "output_type": "execute_result"
    }
   ],
   "source": [
    "import pandas as pd\n",
    "import numpy as np\n",
    "from collections import Counter\n",
    "from sklearn.model_selection import train_test_split\n",
    "from sklearn.preprocessing import MinMaxScaler\n",
    "from sklearn.ensemble import RandomForestClassifier\n",
    "from sklearn.metrics import accuracy_score, classification_report, confusion_matrix\n",
    "import matplotlib.pyplot as plt\n",
    "import seaborn as sns\n",
    "\n",
    "# Load dataset\n",
    "df = pd.read_csv('movies_data.csv', encoding='ISO-8859-1')\n",
    "df.head(3)\n"
   ]
  },
  {
   "cell_type": "code",
   "execution_count": null,
   "metadata": {},
   "outputs": [
    {
     "name": "stdout",
     "output_type": "stream",
     "text": [
      "Now star_power` calculated successfully.\n"
     ]
    }
   ],
   "source": [
    "'''\n",
    "Calculating Star Power\n",
    "1. Count how many times each actor appears in the dataset.\n",
    "2. Assign weighted star power to each actor based on their position (Actor 1 > Actor 2 > Actor 3).\n",
    "'''\n",
    "\n",
    "# Count times of  actors appearing \n",
    "all_actors = df[['Actor 1', 'Actor 2', 'Actor 3']].values.flatten()\n",
    "actor_counts = Counter(all_actors)\n",
    "\n",
    "# Calculate Star Power（Actor1 > Actor2 > Actor3）\n",
    "df['star_power'] = df.apply(lambda row: \n",
    "    1.5 * actor_counts[row['Actor 1']] + \n",
    "    1.2 * actor_counts[row['Actor 2']] + \n",
    "    1.0 * actor_counts[row['Actor 3']], axis=1)\n",
    "\n",
    "df['star_power'] = df['star_power'].fillna(0)\n",
    "print(\"Now star_power` calculated successfully.\")\n"
   ]
  },
  {
   "cell_type": "code",
   "execution_count": 5,
   "metadata": {},
   "outputs": [
    {
     "name": "stdout",
     "output_type": "stream",
     "text": [
      "Now director_power` calculated successfully.\n"
     ]
    }
   ],
   "source": [
    "'''\n",
    "Calculating Director Power\n",
    "1. Count how many times each director appears in the dataset.\n",
    "'''\n",
    "\n",
    "director_counts = Counter(df['Director'])\n",
    "df['director_power'] = df['Director'].map(director_counts).fillna(0)\n",
    "print(\"Now director_power` calculated successfully.\")\n"
   ]
  },
  {
   "cell_type": "code",
   "execution_count": 6,
   "metadata": {},
   "outputs": [
    {
     "name": "stdout",
     "output_type": "stream",
     "text": [
      "Now is_hit` column created successfully.\n"
     ]
    }
   ],
   "source": [
    "'''\n",
    "Calculating Success Rating\n",
    "- Success Rating = Box Office / Budget\n",
    "- Define classification target \"is_hit\" based on a threshold.\n",
    "'''\n",
    "\n",
    "df['success_rating'] = df['Box Office'] / df['Budget']\n",
    "df['is_hit'] = (df['success_rating'] >= 3).astype(int)\n",
    "print(\"Now is_hit` column created successfully.\")\n"
   ]
  },
  {
   "cell_type": "code",
   "execution_count": 7,
   "metadata": {},
   "outputs": [
    {
     "name": "stdout",
     "output_type": "stream",
     "text": [
      "Now actor_success_rate` and `director_success_rate` calculated successfully!\n"
     ]
    }
   ],
   "source": [
    "'''\n",
    "Calculating Actor & Director Success Rate\n",
    "'''\n",
    "\n",
    "# Calculate actor success rate (personal reputation)\n",
    "actor_success_counts = {}\n",
    "actor_total_counts = {}\n",
    "\n",
    "for _, row in df.iterrows():\n",
    "    actors = [row['Actor 1'], row['Actor 2'], row['Actor 3']]\n",
    "    is_hit = row['is_hit']\n",
    "    \n",
    "    for actor in actors:\n",
    "        if actor not in actor_total_counts:\n",
    "            actor_total_counts[actor] = 0\n",
    "            actor_success_counts[actor] = 0\n",
    "        actor_total_counts[actor] += 1\n",
    "        if is_hit == 1:\n",
    "            actor_success_counts[actor] += 1\n",
    "\n",
    "actor_success_rate = {actor: (actor_success_counts[actor] / actor_total_counts[actor])\n",
    "                      for actor in actor_total_counts}\n",
    "\n",
    "df['actor_success_rate'] = df.apply(lambda row: \n",
    "                                    (actor_success_rate.get(row['Actor 1'], 0) +\n",
    "                                     actor_success_rate.get(row['Actor 2'], 0) +\n",
    "                                     actor_success_rate.get(row['Actor 3'], 0)) / 3, axis=1)\n",
    "\n",
    "# Calculate director success rate (personal reputation)\n",
    "director_success_counts = df.groupby('Director')['is_hit'].sum()\n",
    "director_total_counts = df.groupby('Director')['is_hit'].count()\n",
    "director_success_rate = (director_success_counts / director_total_counts).fillna(0).to_dict()\n",
    "\n",
    "df['director_success_rate'] = df['Director'].map(director_success_rate)\n",
    "\n",
    "print(\"Now actor_success_rate` and `director_success_rate` calculated successfully!\")\n"
   ]
  },
  {
   "cell_type": "code",
   "execution_count": 8,
   "metadata": {},
   "outputs": [
    {
     "name": "stdout",
     "output_type": "stream",
     "text": [
      "Now title_length` recalculated successfully.\n"
     ]
    }
   ],
   "source": [
    "'''\n",
    "Recalculating Title Length\n",
    "'''\n",
    "df['title_length'] = df['Movie'].apply(len)\n",
    "print(\"Now title_length` recalculated successfully.\")\n"
   ]
  },
  {
   "cell_type": "code",
   "execution_count": 9,
   "metadata": {},
   "outputs": [
    {
     "name": "stdout",
     "output_type": "stream",
     "text": [
      "Genre One-hot Encoding completed.\n"
     ]
    }
   ],
   "source": [
    "'''\n",
    "One-hot Encoding for Genre - Ensuring it's already processed\n",
    "'''\n",
    "\n",
    "genre_columns = [col for col in df.columns if col.startswith('Genre_')]\n",
    "\n",
    "if genre_columns:\n",
    "    print(f\"Genre One-hot Encoding already exists with {len(genre_columns)} categories.\")\n",
    "else:\n",
    "    # Make sure genre exists\n",
    "    if 'Genre' in df.columns:\n",
    "\n",
    "        df['Genre'] = df['Genre'].fillna(\"Unknown\").replace(\"\", \"Unknown\")\n",
    "\n",
    "        df = df.assign(Genre=df['Genre'].str.split(', ')).explode('Genre')\n",
    "\n",
    "        # One-hot Encoding\n",
    "        df = pd.get_dummies(df, columns=['Genre'])\n",
    "\n",
    "        # Make sure every movie belongs to at least one genre\n",
    "        genre_columns = [col for col in df.columns if col.startswith('Genre_')]\n",
    "        df['genre_sum'] = df[genre_columns].sum(axis=1)\n",
    "\n",
    "        if (df['genre_sum'] == 0).sum() > 0:\n",
    "            print(\"Some movies have no assigned genre. Assigning `Genre_Unknown` as True.\")\n",
    "            if 'Genre_Unknown' not in df.columns:\n",
    "                df['Genre_Unknown'] = 0\n",
    "            df.loc[df['genre_sum'] == 0, 'Genre_Unknown'] = 1\n",
    "\n",
    "        df.drop(columns=['genre_sum'], inplace=True)\n",
    "\n",
    "        print(\"Genre One-hot Encoding completed.\")\n",
    "    else:\n",
    "        raise KeyError(\"Column 'Genre' not found in DataFrame! Check if One-hot Encoding has already been applied.\")\n"
   ]
  },
  {
   "cell_type": "code",
   "execution_count": 10,
   "metadata": {},
   "outputs": [
    {
     "name": "stdout",
     "output_type": "stream",
     "text": [
      "Now budget_per_star_power` calculated successfully.\n"
     ]
    }
   ],
   "source": [
    "'''\n",
    "Calculating Budget per Star Power\n",
    "'''\n",
    "\n",
    "df['budget_per_star_power'] = df['Budget'] / (df['star_power'] + 1)\n",
    "print(\"Now budget_per_star_power` calculated successfully.\")\n"
   ]
  },
  {
   "cell_type": "code",
   "execution_count": 11,
   "metadata": {},
   "outputs": [
    {
     "name": "stdout",
     "output_type": "stream",
     "text": [
      "Now release_year_norm` calculated successfully.\n"
     ]
    }
   ],
   "source": [
    "'''\n",
    "Processing Release Year (Normalization)\n",
    "'''\n",
    "\n",
    "df['release_year_norm'] = (df['Release year'] - df['Release year'].min()) / (df['Release year'].max() - df['Release year'].min())\n",
    "print(\"Now release_year_norm` calculated successfully.\")\n"
   ]
  },
  {
   "cell_type": "code",
   "execution_count": null,
   "metadata": {},
   "outputs": [
    {
     "name": "stdout",
     "output_type": "stream",
     "text": [
      "Data split completed! Train Size: (3179, 23), Validation Size: (397, 23), Test Size: (398, 23)\n"
     ]
    }
   ],
   "source": [
    "'''\n",
    "Splitting Data into Train, Validation, and Test Sets\n",
    "'''\n",
    "\n",
    "feature_columns = ['star_power', 'director_power', 'budget_per_star_power', 'title_length', \n",
    "                   'Running time', 'Budget', 'release_year_norm', 'actor_success_rate', 'director_success_rate']\n",
    "# Add all specific genres as columns\n",
    "feature_columns += [col for col in df.columns if col.startswith('Genre_')]\n",
    "target_column = 'is_hit'\n",
    "\n",
    "X = df[feature_columns]\n",
    "y = df[target_column]\n",
    "\n",
    "X_train, X_temp, y_train, y_temp = train_test_split(X, y, test_size=0.2, random_state=42, stratify=y)\n",
    "X_val, X_test, y_val, y_test = train_test_split(X_temp, y_temp, test_size=0.5, random_state=42, stratify=y_temp)\n",
    "\n",
    "# Normalization\n",
    "scaler = MinMaxScaler()\n",
    "X_train[feature_columns] = scaler.fit_transform(X_train[feature_columns])\n",
    "X_val[feature_columns] = scaler.transform(X_val[feature_columns])\n",
    "X_test[feature_columns] = scaler.transform(X_test[feature_columns])\n",
    "\n",
    "print(f\"Data split completed! Train Size: {X_train.shape}, Validation Size: {X_val.shape}, Test Size: {X_test.shape}\")\n"
   ]
  },
  {
   "cell_type": "code",
   "execution_count": null,
   "metadata": {},
   "outputs": [
    {
     "name": "stdout",
     "output_type": "stream",
     "text": [
      "Best Hyperparameters: {'class_weight': {0: 1, 1: 6}, 'max_depth': 30, 'max_features': 'sqrt', 'min_samples_leaf': 1, 'min_samples_split': 5, 'n_estimators': 1356, 'random_state': 42}\n",
      "Optimized RandomForest Validation Accuracy: 0.9395\n",
      "              precision    recall  f1-score   support\n",
      "\n",
      "           0       0.98      0.92      0.95       251\n",
      "           1       0.88      0.97      0.92       146\n",
      "\n",
      "    accuracy                           0.94       397\n",
      "   macro avg       0.93      0.95      0.94       397\n",
      "weighted avg       0.94      0.94      0.94       397\n",
      "\n",
      "[[232  19]\n",
      " [  5 141]]\n"
     ]
    }
   ],
   "source": [
    "'''\n",
    "Hyperparameter Tuning with RandomizedSearchCV for RandomForest\n",
    "'''\n",
    "from sklearn.ensemble import RandomForestClassifier\n",
    "from sklearn.model_selection import RandomizedSearchCV\n",
    "from scipy.stats import randint\n",
    "from sklearn.metrics import accuracy_score, classification_report, confusion_matrix\n",
    "\n",
    "# Define the hyperparameter search space\n",
    "param_dist = {\n",
    "    'n_estimators': randint(500, 2000),  # Randomly select between 500 and 2000\n",
    "    'max_depth': [20, 30, None],  # Limit the maximum depth of trees\n",
    "    'min_samples_split': randint(2, 10),  # Minimum number of samples required to split an internal node\n",
    "    'min_samples_leaf': randint(1, 4),  # Minimum number of samples required at a leaf node\n",
    "    'max_features': ['sqrt'],  # Fixed max_features as 'sqrt'\n",
    "    'class_weight': [{0: 1, 1: 6}],\n",
    "    'random_state': [42]\n",
    "}\n",
    "\n",
    "# Run RandomizedSearchCV for hyperparameter tuning\n",
    "rf = RandomForestClassifier(n_jobs=-1)\n",
    "random_search = RandomizedSearchCV(\n",
    "    rf, param_dist,\n",
    "    n_iter=15,  # Search 15 sets of hyperparameters (faster than GridSearchCV)\n",
    "    cv=3,  # 3-fold cross-validation\n",
    "    scoring='accuracy',\n",
    "    random_state=42,\n",
    "    n_jobs=-1\n",
    ")\n",
    "\n",
    "random_search.fit(X_train, y_train)\n",
    "\n",
    "# Get the best hyperparameters\n",
    "best_params = random_search.best_params_\n",
    "print(f\"Best Hyperparameters: {best_params}\")\n",
    "\n",
    "# Train the final model using the best hyperparameters\n",
    "best_rf_model = random_search.best_estimator_\n",
    "\n",
    "# Evaluate the best model\n",
    "y_val_pred = best_rf_model.predict(X_val)\n",
    "\n",
    "print(f\"Optimized RandomForest Validation Accuracy: {accuracy_score(y_val, y_val_pred):.4f}\")\n",
    "print(classification_report(y_val, y_val_pred))\n",
    "print(confusion_matrix(y_val, y_val_pred))\n"
   ]
  },
  {
   "cell_type": "code",
   "execution_count": null,
   "metadata": {},
   "outputs": [
    {
     "data": {
      "image/png": "[encoded data removed]",
      "text/plain": [
       "<Figure size 600x400 with 2 Axes>"
      ]
     },
     "metadata": {},
     "output_type": "display_data"
    }
   ],
   "source": [
    "import seaborn as sns\n",
    "import matplotlib.pyplot as plt\n",
    "\n",
    "# Show confusion matrix\n",
    "plt.figure(figsize=(6,4))\n",
    "sns.heatmap(confusion_matrix(y_val, y_val_pred), annot=True, fmt=\"d\", cmap=\"Blues\", xticklabels=[\"Not Hit\", \"Hit\"], yticklabels=[\"Not Hit\", \"Hit\"])\n",
    "plt.xlabel(\"Predicted Label\")\n",
    "plt.ylabel(\"True Label\")\n",
    "plt.title(\"Confusion Matrix\")\n",
    "plt.show()\n"
   ]
  },
  {
   "cell_type": "code",
   "execution_count": null,
   "metadata": {},
   "outputs": [
    {
     "data": {
      "image/png": "[encoded data removed]",
      "text/plain": [
       "<Figure size 800x500 with 1 Axes>"
      ]
     },
     "metadata": {},
     "output_type": "display_data"
    }
   ],
   "source": [
    "# The most important features\n",
    "feature_importances = best_rf_model.feature_importances_\n",
    "feature_names = X_train.columns\n",
    "\n",
    "# Show feature importance in graph\n",
    "plt.figure(figsize=(8,5))\n",
    "sns.barplot(x=feature_importances, y=feature_names)\n",
    "plt.xlabel(\"Feature Importance Score\")\n",
    "plt.ylabel(\"Feature Names\")\n",
    "plt.title(\"Feature Importance in Random Forest\")\n",
    "plt.show()\n"
   ]
  },
  {
   "cell_type": "markdown",
   "metadata": {},
   "source": [
    "## Conclusion\n",
    "- The best model achieved **93.95% accuracy**.\n",
    "- The model is very strong in predicting **non-hit movies** (98% precision) and **hit movies** (97% recall).\n",
    "- The most important features in predicting movie success are **star power, director power, and actor success rate**."
   ]
  }
 ],
 "metadata": {
  "kernelspec": {
   "display_name": "Python 3",
   "language": "python",
   "name": "python3"
  },
  "language_info": {
   "codemirror_mode": {
    "name": "ipython",
    "version": 3
   },
   "file_extension": ".py",
   "mimetype": "text/x-python",
   "name": "python",
   "nbconvert_exporter": "python",
   "pygments_lexer": "ipython3",
   "version": "3.10.0"
  }
 },
 "nbformat": 4,
 "nbformat_minor": 2
}
